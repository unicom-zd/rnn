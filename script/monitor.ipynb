{
 "cells": [
  {
   "cell_type": "code",
   "execution_count": null,
   "metadata": {
    "collapsed": true
   },
   "outputs": [],
   "source": [
    "csv2tensor = require 'csv2tensor'"
   ]
  },
  {
   "cell_type": "code",
   "execution_count": null,
   "metadata": {
    "collapsed": false
   },
   "outputs": [],
   "source": [
    "function moving_aver(arr, step)\n",
    "    assert(arr:dim() == 1, 'accept only 1d')\n",
    "    local arr_aver = torch.Tensor(arr:size()):fill(0)\n",
    "    local median = (step-1)/2\n",
    "    for i = 1, arr:size(1) do\n",
    "        if i - 1 < median then\n",
    "            arr_aver[i] = torch.mean(arr[{{1, i+median}}])\n",
    "        elseif arr:size(1) - i < median then\n",
    "            arr_aver[i] = torch.mean(arr[{{i-median, -1}}])\n",
    "        else\n",
    "            arr_aver[i] = torch.mean(arr[{{i-median, i+median}}])\n",
    "        end\n",
    "    end\n",
    "    return arr_aver\n",
    "end"
   ]
  },
  {
   "cell_type": "code",
   "execution_count": null,
   "metadata": {
    "collapsed": false
   },
   "outputs": [],
   "source": [
    "function plot_para(prefix,step)\n",
    "    local prefixs = table.concat(prefix, '-')\n",
    "    local train_error = {}\n",
    "    for i, v in pairs(prefix) do\n",
    "        local train_err, column_names = csv2tensor.load(v..\"-para.log\")\n",
    "        table.insert(train_error, train_err)\n",
    "    end\n",
    "    train_error = torch.cat(train_error)\n",
    "    \n",
    "    local x = torch.range(1,(#train_error)[1])\n",
    "    local y_aver = moving_aver(train_error, step)\n",
    "\n",
    "    local Plot = require 'itorch.Plot'\n",
    "    local plot = Plot():line(x, train_error,'blue','para')\n",
    "                 :line(x, y_aver,'red','para-moving-aver')\n",
    "                 :legend(true):title('train para'):draw()\n",
    "end"
   ]
  },
  {
   "cell_type": "code",
   "execution_count": null,
   "metadata": {
    "collapsed": true
   },
   "outputs": [],
   "source": [
    "function plot_moving_aver(prefix, upper_bound, step)\n",
    "    local prefixs = table.concat(prefix, '-')\n",
    "    local train_error = {}\n",
    "    for i, v in pairs(prefix) do\n",
    "        local train_err, column_names = csv2tensor.load(v..\"-train.log\")\n",
    "        table.insert(train_error, train_err)\n",
    "    end\n",
    "    train_error = torch.cat(train_error)\n",
    "    \n",
    "    local x = torch.range(1,(#train_error)[1])\n",
    "    local y1 = torch.clamp(train_error, 0, upper_bound)\n",
    "    local y1_aver = moving_aver(y1, step)\n",
    "    \n",
    "    local Plot = require 'itorch.Plot'\n",
    "    local plot = Plot():line(x, y1,'blue',prefixs)\n",
    "                 :line(x, y1_aver,'red',prefixs..'-moving-aver')\n",
    "                 :legend(true):title('train error'):draw()\n",
    "end"
   ]
  },
  {
   "cell_type": "code",
   "execution_count": null,
   "metadata": {
    "collapsed": true
   },
   "outputs": [],
   "source": [
    "function plot_1acc(prefix, suffix)\n",
    "    local suffix = suffix or ''\n",
    "    local prefixs = table.concat(prefix, '-')\n",
    "    local train_error = {}\n",
    "    for i, v in pairs(prefix) do\n",
    "        local train_err, column_names = csv2tensor.load(v..suffix..\"-eval.log\", '\\t')\n",
    "        table.insert(train_error, train_err)\n",
    "    end\n",
    "    train_error = torch.cat(train_error, 1)\n",
    "    \n",
    "    local x = torch.range(1,(#train_error)[1])\n",
    "    local at_at = train_error[{{},1}]\n",
    "    local at_lt = train_error[{{},2}]\n",
    "    local lt_at = train_error[{{},3}]\n",
    "    local lt_lt = train_error[{{},4}]\n",
    "\n",
    "    local y_upper = torch.range(1,(#train_error)[1]):fill(1)\n",
    "    local y_at_acc = torch.cdiv(at_at, at_at+at_lt)\n",
    "    local y_quan_acc = torch.cdiv(lt_lt, lt_at+lt_lt)\n",
    "    local y_zhun_acc = torch.cdiv(lt_lt, lt_lt+at_lt)\n",
    "\n",
    "    local Plot = require 'itorch.Plot'\n",
    "    local plot = Plot():line(x, y_upper,'black')\n",
    "                 :line(x, y_at_acc,'blue','at准确率')\n",
    "                 :line(x, y_quan_acc,'red','查全率')\n",
    "                 :line(x, y_zhun_acc,'red','查准率')\n",
    "                 :legend(true):title('acc'):draw()\n",
    "end"
   ]
  },
  {
   "cell_type": "code",
   "execution_count": null,
   "metadata": {
    "collapsed": true
   },
   "outputs": [],
   "source": [
    "function plot_2acc(prefix)\n",
    "    local prefixs = table.concat(prefix, '-')\n",
    "    local function load_data(prefix, suffix)\n",
    "        local data = {}\n",
    "        for i, v in pairs(prefix) do\n",
    "            local d, _ = csv2tensor.load(v..\"-\"..suffix..\"-eval.log\", '\\t')\n",
    "            table.insert(data, d)\n",
    "        end\n",
    "        return torch.cat(data, 1)\n",
    "    end\n",
    "    local function transpose_data(data)\n",
    "        local at_at = data[{{},1}]\n",
    "        local at_lt = data[{{},2}]\n",
    "        local lt_at = data[{{},3}]\n",
    "        local lt_lt = data[{{},4}]\n",
    "        local y_at_acc = torch.cdiv(at_at, at_at+at_lt+1e-5)\n",
    "        local y_quan_acc = torch.cdiv(lt_lt, lt_at+lt_lt+1e-5)\n",
    "        local y_zhun_acc = torch.cdiv(lt_lt, lt_lt+at_lt+1e-5)\n",
    "        return y_at_acc, y_quan_acc, y_zhun_acc\n",
    "    end\n",
    "    \n",
    "    local train_acc = load_data(prefix, 'train')\n",
    "    local vali_acc = load_data(prefix, 'vali')\n",
    "    print(train_acc,vali_acc)\n",
    "    \n",
    "    local x = torch.range(1,(#train_acc)[1])\n",
    "    local y_upper = torch.range(1,(#train_acc)[1]):fill(1)\n",
    "    local y_tr_at_acc, y_tr_quan_acc, y_tr_zhun_acc = transpose_data(train_acc)\n",
    "    local y_va_at_acc, y_va_quan_acc, y_va_zhun_acc = transpose_data(vali_acc)    \n",
    "    \n",
    "    local Plot = require 'itorch.Plot'\n",
    "    local plot = Plot():line(x, y_upper,'white')\n",
    "                 :line(x, y_tr_at_acc,'orange', '训练AT准确率')\n",
    "                 :line(x, y_tr_quan_acc,'red','训练查全率')\n",
    "                 :line(x, y_tr_zhun_acc,'yellow','训练查准率')\n",
    "                 :line(x, y_va_at_acc,'black', '检查AT准确率')\n",
    "                 :line(x, y_va_quan_acc,'green','检查查全率')\n",
    "                 :line(x, y_va_zhun_acc,'blue','检查查准率')\n",
    "                 :legend(true):title('compare acc'):draw()\n",
    "end"
   ]
  },
  {
   "cell_type": "code",
   "execution_count": null,
   "metadata": {
    "collapsed": true
   },
   "outputs": [],
   "source": [
    "function get_prefixs(prefix, start, num_of_iter, suffix)\n",
    "    local suffix = suffix or ''\n",
    "    local prefixs = {}\n",
    "    for i = start, start+num_of_iter-1 do\n",
    "        table.insert(prefixs, prefix .. '-it' .. tostring(i))\n",
    "    end\n",
    "    return prefixs\n",
    "end"
   ]
  },
  {
   "cell_type": "code",
   "execution_count": null,
   "metadata": {
    "collapsed": false
   },
   "outputs": [],
   "source": [
    "-- prefixs = get_prefixs('m8adam-s1', 1, 10)\n",
    "-- print(prefixs)\n",
    "-- plot_moving_aver(prefixs, 1, 101)\n",
    "-- -- plot_para(prefixs, 101)"
   ]
  },
  {
   "cell_type": "code",
   "execution_count": null,
   "metadata": {
    "collapsed": true
   },
   "outputs": [],
   "source": [
    "-- prefixs = get_prefixs('m8adam-s1', 1, 10)\n",
    "-- -- print(prefixs)\n",
    "-- plot_2acc(prefixs)"
   ]
  },
  {
   "cell_type": "code",
   "execution_count": null,
   "metadata": {
    "collapsed": false
   },
   "outputs": [],
   "source": [
    "-- prefixs = get_prefixs('m9-s1', 1, 7)\n",
    "-- print(prefixs)\n",
    "-- plot_moving_aver(prefixs, 1, 101)\n",
    "-- -- plot_para(prefixs, 101)"
   ]
  },
  {
   "cell_type": "code",
   "execution_count": null,
   "metadata": {
    "collapsed": false
   },
   "outputs": [],
   "source": [
    "-- prefixs = get_prefixs('m9-s1', 1, 6)\n",
    "-- -- print(prefixs)\n",
    "-- plot_2acc(prefixs)"
   ]
  },
  {
   "cell_type": "code",
   "execution_count": null,
   "metadata": {
    "collapsed": false,
    "scrolled": false
   },
   "outputs": [],
   "source": [
    "-- prefixs = get_prefixs('m8-s1', 1+20, 40-20)\n",
    "-- print(prefixs)\n",
    "-- plot_moving_aver(prefixs, 1, 101)\n",
    "-- -- plot_para(prefixs, 101)"
   ]
  },
  {
   "cell_type": "code",
   "execution_count": null,
   "metadata": {
    "collapsed": false
   },
   "outputs": [],
   "source": [
    "-- prefixs = get_prefixs('m8-s1', 1, 40)\n",
    "-- -- print(prefixs)\n",
    "-- plot_2acc(prefixs)"
   ]
  },
  {
   "cell_type": "code",
   "execution_count": null,
   "metadata": {
    "collapsed": false
   },
   "outputs": [],
   "source": [
    "-- prefixs = get_prefixs('m6-s1', 2, 9)\n",
    "-- print(prefixs)\n",
    "-- plot_1acc(prefixs, '-vali')"
   ]
  },
  {
   "cell_type": "code",
   "execution_count": null,
   "metadata": {
    "collapsed": false
   },
   "outputs": [],
   "source": [
    "prefixs = get_prefixs('m5-s1', 1, 10)\n",
    "-- print(prefixs)\n",
    "plot_moving_aver(prefixs, 1, 101)\n",
    "plot_2acc(prefixs)"
   ]
  },
  {
   "cell_type": "code",
   "execution_count": null,
   "metadata": {
    "collapsed": false,
    "scrolled": false
   },
   "outputs": [],
   "source": [
    "prefixs = get_prefixs('m2-s1', 1, 10)\n",
    "-- print(prefixs)\n",
    "plot_moving_aver(prefixs, 1, 101)\n",
    "plot_2acc(prefixs)"
   ]
  },
  {
   "cell_type": "code",
   "execution_count": null,
   "metadata": {
    "collapsed": false
   },
   "outputs": [],
   "source": [
    "prefixs = get_prefixs('m3-s1', 1, 10)\n",
    "-- print(prefixs)\n",
    "plot_moving_aver(prefixs, 1, 101)\n",
    "plot_2acc(prefixs)"
   ]
  },
  {
   "cell_type": "code",
   "execution_count": null,
   "metadata": {
    "collapsed": false
   },
   "outputs": [],
   "source": [
    "prefixs = get_prefixs('m4-s1', 1, 10)\n",
    "-- print(prefixs)\n",
    "plot_moving_aver(prefixs, 1, 101)\n",
    "plot_2acc(prefixs)"
   ]
  },
  {
   "cell_type": "code",
   "execution_count": null,
   "metadata": {
    "collapsed": false
   },
   "outputs": [],
   "source": [
    "prefixs = get_prefixs('m1-s1', 1, 10)\n",
    "-- print(prefixs)\n",
    "plot_moving_aver(prefixs, 1, 101)\n",
    "plot_2acc(prefixs)"
   ]
  }
 ],
 "metadata": {
  "kernelspec": {
   "display_name": "iTorch",
   "language": "lua",
   "name": "itorch"
  },
  "language_info": {
   "name": "lua",
   "version": "5.1"
  }
 },
 "nbformat": 4,
 "nbformat_minor": 0
}
